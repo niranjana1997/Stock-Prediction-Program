{
 "cells": [
  {
   "cell_type": "markdown",
   "id": "96d031bd",
   "metadata": {},
   "source": [
    "## Stock Prediction Program\n",
    "\n",
    "This program predicts the stock prices with the help of machine learning algorithms"
   ]
  },
  {
   "cell_type": "code",
   "execution_count": 17,
   "id": "9c52ee8a",
   "metadata": {},
   "outputs": [
    {
     "name": "stdout",
     "output_type": "stream",
     "text": [
      "Collecting sklearn\n",
      "  Downloading sklearn-0.0.tar.gz (1.1 kB)\n",
      "  Preparing metadata (setup.py) ... \u001b[?25ldone\n",
      "\u001b[?25hCollecting scikit-learn\n",
      "  Downloading scikit_learn-1.1.2-cp310-cp310-macosx_12_0_arm64.whl (7.7 MB)\n",
      "\u001b[2K     \u001b[90m━━━━━━━━━━━━━━━━━━━━━━━━━━━━━━━━━━━━━━━━\u001b[0m \u001b[32m7.7/7.7 MB\u001b[0m \u001b[31m12.2 MB/s\u001b[0m eta \u001b[36m0:00:00\u001b[0m00:01\u001b[0m00:01\u001b[0m\n",
      "\u001b[?25hCollecting joblib>=1.0.0\n",
      "  Downloading joblib-1.2.0-py3-none-any.whl (297 kB)\n",
      "\u001b[2K     \u001b[90m━━━━━━━━━━━━━━━━━━━━━━━━━━━━━━━━━━━━━━━\u001b[0m \u001b[32m298.0/298.0 kB\u001b[0m \u001b[31m9.2 MB/s\u001b[0m eta \u001b[36m0:00:00\u001b[0m\n",
      "\u001b[?25hRequirement already satisfied: numpy>=1.17.3 in /opt/homebrew/Cellar/jupyterlab/3.4.8/libexec/lib/python3.10/site-packages (from scikit-learn->sklearn) (1.23.3)\n",
      "Collecting scipy>=1.3.2\n",
      "  Downloading scipy-1.9.1-cp310-cp310-macosx_12_0_arm64.whl (29.9 MB)\n",
      "\u001b[2K     \u001b[90m━━━━━━━━━━━━━━━━━━━━━━━━━━━━━━━━━━━━━━━━\u001b[0m \u001b[32m29.9/29.9 MB\u001b[0m \u001b[31m32.9 MB/s\u001b[0m eta \u001b[36m0:00:00\u001b[0m00:01\u001b[0m00:01\u001b[0m\n",
      "\u001b[?25hCollecting threadpoolctl>=2.0.0\n",
      "  Downloading threadpoolctl-3.1.0-py3-none-any.whl (14 kB)\n",
      "Building wheels for collected packages: sklearn\n",
      "  Building wheel for sklearn (setup.py) ... \u001b[?25ldone\n",
      "\u001b[?25h  Created wheel for sklearn: filename=sklearn-0.0-py2.py3-none-any.whl size=1304 sha256=f640c4db21139ff45aa5d82a75da511e944d87032e468cad7ee5caff2d920816\n",
      "  Stored in directory: /Users/niranjanasathish/Library/Caches/pip/wheels/9b/13/01/6f3a7fd641f90e1f6c8c7cded057f3394f451f340371c68f3d\n",
      "Successfully built sklearn\n",
      "Installing collected packages: threadpoolctl, scipy, joblib, scikit-learn, sklearn\n",
      "Successfully installed joblib-1.2.0 scikit-learn-1.1.2 scipy-1.9.1 sklearn-0.0 threadpoolctl-3.1.0\n",
      "Note: you may need to restart the kernel to use updated packages.\n"
     ]
    }
   ],
   "source": [
    "pip install sklearn"
   ]
  },
  {
   "cell_type": "code",
   "execution_count": 20,
   "id": "8507acde",
   "metadata": {},
   "outputs": [
    {
     "name": "stdout",
     "output_type": "stream",
     "text": [
      "Requirement already satisfied: quandl in /opt/homebrew/Cellar/jupyterlab/3.4.8/libexec/lib/python3.10/site-packages (3.7.0)\n",
      "Requirement already satisfied: inflection>=0.3.1 in /opt/homebrew/Cellar/jupyterlab/3.4.8/libexec/lib/python3.10/site-packages (from quandl) (0.5.1)\n",
      "Requirement already satisfied: six in /opt/homebrew/Cellar/six/1.16.0_2/lib/python3.10/site-packages (from quandl) (1.16.0)\n",
      "Requirement already satisfied: more-itertools in /opt/homebrew/Cellar/jupyterlab/3.4.8/libexec/lib/python3.10/site-packages (from quandl) (8.14.0)\n",
      "Requirement already satisfied: requests>=2.7.0 in /opt/homebrew/Cellar/jupyterlab/3.4.8/libexec/lib/python3.10/site-packages (from quandl) (2.28.1)\n",
      "Requirement already satisfied: python-dateutil in /opt/homebrew/Cellar/jupyterlab/3.4.8/libexec/lib/python3.10/site-packages (from quandl) (2.8.2)\n",
      "Requirement already satisfied: pandas>=0.14 in /opt/homebrew/Cellar/jupyterlab/3.4.8/libexec/lib/python3.10/site-packages (from quandl) (1.5.0)\n",
      "Requirement already satisfied: numpy>=1.8 in /opt/homebrew/Cellar/jupyterlab/3.4.8/libexec/lib/python3.10/site-packages (from quandl) (1.23.3)\n",
      "Requirement already satisfied: pytz>=2020.1 in /opt/homebrew/Cellar/jupyterlab/3.4.8/libexec/lib/python3.10/site-packages (from pandas>=0.14->quandl) (2022.4)\n",
      "Requirement already satisfied: charset-normalizer<3,>=2 in /opt/homebrew/Cellar/jupyterlab/3.4.8/libexec/lib/python3.10/site-packages (from requests>=2.7.0->quandl) (2.1.1)\n",
      "Requirement already satisfied: certifi>=2017.4.17 in /opt/homebrew/Cellar/jupyterlab/3.4.8/libexec/lib/python3.10/site-packages (from requests>=2.7.0->quandl) (2022.9.24)\n",
      "Requirement already satisfied: urllib3<1.27,>=1.21.1 in /opt/homebrew/Cellar/jupyterlab/3.4.8/libexec/lib/python3.10/site-packages (from requests>=2.7.0->quandl) (1.26.12)\n",
      "Requirement already satisfied: idna<4,>=2.5 in /opt/homebrew/Cellar/jupyterlab/3.4.8/libexec/lib/python3.10/site-packages (from requests>=2.7.0->quandl) (3.4)\n",
      "Note: you may need to restart the kernel to use updated packages.\n"
     ]
    }
   ],
   "source": [
    "pip install quandl"
   ]
  },
  {
   "cell_type": "code",
   "execution_count": 21,
   "id": "c5e8918c",
   "metadata": {},
   "outputs": [],
   "source": [
    "# Importing the dependecies used in this project\n",
    "import quandl as ql\n",
    "import numpy as np\n",
    "from sklearn.linear_model import LinearRegression\n",
    "from sklearn.svm import SVR\n",
    "from sklearn.model_selection import train_test_split"
   ]
  },
  {
   "cell_type": "code",
   "execution_count": 31,
   "id": "ac98b18e",
   "metadata": {},
   "outputs": [
    {
     "name": "stdout",
     "output_type": "stream",
     "text": [
      "             Open   High    Low    Close       Volume  Ex-Dividend  \\\n",
      "Date                                                                 \n",
      "2012-05-18  42.05  45.00  38.00  38.2318  573576400.0          0.0   \n",
      "2012-05-21  36.53  36.66  33.00  34.0300  168192700.0          0.0   \n",
      "2012-05-22  32.61  33.59  30.94  31.0000  101786600.0          0.0   \n",
      "2012-05-23  31.37  32.50  31.36  32.0000   73600000.0          0.0   \n",
      "2012-05-24  32.95  33.21  31.77  33.0300   50237200.0          0.0   \n",
      "\n",
      "            Split Ratio  Adj. Open  Adj. High  Adj. Low  Adj. Close  \\\n",
      "Date                                                                  \n",
      "2012-05-18          1.0      42.05      45.00     38.00     38.2318   \n",
      "2012-05-21          1.0      36.53      36.66     33.00     34.0300   \n",
      "2012-05-22          1.0      32.61      33.59     30.94     31.0000   \n",
      "2012-05-23          1.0      31.37      32.50     31.36     32.0000   \n",
      "2012-05-24          1.0      32.95      33.21     31.77     33.0300   \n",
      "\n",
      "            Adj. Volume  \n",
      "Date                     \n",
      "2012-05-18  573576400.0  \n",
      "2012-05-21  168192700.0  \n",
      "2012-05-22  101786600.0  \n",
      "2012-05-23   73600000.0  \n",
      "2012-05-24   50237200.0  \n"
     ]
    }
   ],
   "source": [
    "# Getting the dataset from quandl\n",
    "data = ql.get(\"WIKI/FB\")\n",
    "\n",
    "# Printing the dataset\n",
    "print(data.head())"
   ]
  },
  {
   "cell_type": "code",
   "execution_count": 32,
   "id": "b9469b4f",
   "metadata": {},
   "outputs": [],
   "source": [
    "# To predict future prices of stock prices and to know how many days in the future\n",
    "forecast_num_days = 1\n",
    "\n",
    "# Target column is created by shifting 'forecast_num_days' units up\n",
    "# This is used to get the next day's value from the 'Adj. Close' columns\n",
    "df['Prediction'] = df[['Adj. Close']].shift(-forecast_num_days)\n"
   ]
  },
  {
   "cell_type": "code",
   "execution_count": 35,
   "id": "28c514b6",
   "metadata": {},
   "outputs": [],
   "source": [
    "# Input Dataset X is created\n",
    "#1. Pandas Dataframe is converted to numpy - 'Adj. Close' column\n",
    "temp = data['Adj. Close']\n",
    "X = np.array(temp)\n",
    "\n",
    "#2. The last 'forecast_num_days' number of rows are removed because of nan\n",
    "X = X[:-forecast_num_days]"
   ]
  },
  {
   "cell_type": "code",
   "execution_count": null,
   "id": "07914ad4",
   "metadata": {},
   "outputs": [],
   "source": [
    "# Output Dataset y is created\n",
    "#1. Pandas Dataframe is converted to numpy - 'Prediction' column\n",
    "temp = data['Adj. Close']\n",
    "X = np.array(temp)\n",
    "\n",
    "#2. The last 'forecast_num_days' number of rows are removed because of nan\n",
    "X = X[:-forecast_num_days]"
   ]
  },
  {
   "cell_type": "code",
   "execution_count": null,
   "id": "5da05f4e",
   "metadata": {},
   "outputs": [],
   "source": []
  }
 ],
 "metadata": {
  "kernelspec": {
   "display_name": "Python 3 (ipykernel)",
   "language": "python",
   "name": "python3"
  },
  "language_info": {
   "codemirror_mode": {
    "name": "ipython",
    "version": 3
   },
   "file_extension": ".py",
   "mimetype": "text/x-python",
   "name": "python",
   "nbconvert_exporter": "python",
   "pygments_lexer": "ipython3",
   "version": "3.10.7"
  }
 },
 "nbformat": 4,
 "nbformat_minor": 5
}
