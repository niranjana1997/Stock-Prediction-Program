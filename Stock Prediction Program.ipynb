{
 "cells": [
  {
   "cell_type": "markdown",
   "id": "85e1f15d",
   "metadata": {},
   "source": [
    "## Stock Prediction Program\n",
    "\n",
    "This program predicts the stock prices with the help of machine learning algorithms"
   ]
  },
  {
   "cell_type": "code",
   "execution_count": 1,
   "id": "5759893b",
   "metadata": {},
   "outputs": [
    {
     "name": "stdout",
     "output_type": "stream",
     "text": [
      "Requirement already satisfied: sklearn in /opt/homebrew/Cellar/jupyterlab/3.4.8/libexec/lib/python3.10/site-packages (0.0)\n",
      "Requirement already satisfied: scikit-learn in /opt/homebrew/Cellar/jupyterlab/3.4.8/libexec/lib/python3.10/site-packages (from sklearn) (1.1.2)\n",
      "Requirement already satisfied: threadpoolctl>=2.0.0 in /opt/homebrew/Cellar/jupyterlab/3.4.8/libexec/lib/python3.10/site-packages (from scikit-learn->sklearn) (3.1.0)\n",
      "Requirement already satisfied: numpy>=1.17.3 in /opt/homebrew/Cellar/jupyterlab/3.4.8/libexec/lib/python3.10/site-packages (from scikit-learn->sklearn) (1.23.3)\n",
      "Requirement already satisfied: joblib>=1.0.0 in /opt/homebrew/Cellar/jupyterlab/3.4.8/libexec/lib/python3.10/site-packages (from scikit-learn->sklearn) (1.2.0)\n",
      "Requirement already satisfied: scipy>=1.3.2 in /opt/homebrew/Cellar/jupyterlab/3.4.8/libexec/lib/python3.10/site-packages (from scikit-learn->sklearn) (1.9.1)\n",
      "Note: you may need to restart the kernel to use updated packages.\n"
     ]
    }
   ],
   "source": [
    "pip install sklearn"
   ]
  },
  {
   "cell_type": "code",
   "execution_count": 2,
   "id": "e208adb2",
   "metadata": {},
   "outputs": [
    {
     "name": "stdout",
     "output_type": "stream",
     "text": [
      "Requirement already satisfied: quandl in /opt/homebrew/Cellar/jupyterlab/3.4.8/libexec/lib/python3.10/site-packages (3.7.0)\n",
      "Requirement already satisfied: numpy>=1.8 in /opt/homebrew/Cellar/jupyterlab/3.4.8/libexec/lib/python3.10/site-packages (from quandl) (1.23.3)\n",
      "Requirement already satisfied: requests>=2.7.0 in /opt/homebrew/Cellar/jupyterlab/3.4.8/libexec/lib/python3.10/site-packages (from quandl) (2.28.1)\n",
      "Requirement already satisfied: pandas>=0.14 in /opt/homebrew/Cellar/jupyterlab/3.4.8/libexec/lib/python3.10/site-packages (from quandl) (1.5.0)\n",
      "Requirement already satisfied: inflection>=0.3.1 in /opt/homebrew/Cellar/jupyterlab/3.4.8/libexec/lib/python3.10/site-packages (from quandl) (0.5.1)\n",
      "Requirement already satisfied: python-dateutil in /opt/homebrew/Cellar/jupyterlab/3.4.8/libexec/lib/python3.10/site-packages (from quandl) (2.8.2)\n",
      "Requirement already satisfied: six in /opt/homebrew/Cellar/six/1.16.0_2/lib/python3.10/site-packages (from quandl) (1.16.0)\n",
      "Requirement already satisfied: more-itertools in /opt/homebrew/Cellar/jupyterlab/3.4.8/libexec/lib/python3.10/site-packages (from quandl) (8.14.0)\n",
      "Requirement already satisfied: pytz>=2020.1 in /opt/homebrew/Cellar/jupyterlab/3.4.8/libexec/lib/python3.10/site-packages (from pandas>=0.14->quandl) (2022.4)\n",
      "Requirement already satisfied: urllib3<1.27,>=1.21.1 in /opt/homebrew/Cellar/jupyterlab/3.4.8/libexec/lib/python3.10/site-packages (from requests>=2.7.0->quandl) (1.26.12)\n",
      "Requirement already satisfied: charset-normalizer<3,>=2 in /opt/homebrew/Cellar/jupyterlab/3.4.8/libexec/lib/python3.10/site-packages (from requests>=2.7.0->quandl) (2.1.1)\n",
      "Requirement already satisfied: certifi>=2017.4.17 in /opt/homebrew/Cellar/jupyterlab/3.4.8/libexec/lib/python3.10/site-packages (from requests>=2.7.0->quandl) (2022.9.24)\n",
      "Requirement already satisfied: idna<4,>=2.5 in /opt/homebrew/Cellar/jupyterlab/3.4.8/libexec/lib/python3.10/site-packages (from requests>=2.7.0->quandl) (3.4)\n",
      "Note: you may need to restart the kernel to use updated packages.\n"
     ]
    }
   ],
   "source": [
    "pip install quandl"
   ]
  },
  {
   "cell_type": "code",
   "execution_count": 3,
   "id": "437bbda6",
   "metadata": {},
   "outputs": [],
   "source": [
    "# Importing the dependecies used in this project\n",
    "import quandl as ql\n",
    "import numpy as np\n",
    "from sklearn.linear_model import LinearRegression\n",
    "from sklearn.svm import SVR\n",
    "from sklearn.model_selection import train_test_split"
   ]
  },
  {
   "cell_type": "code",
   "execution_count": 4,
   "id": "36236889",
   "metadata": {},
   "outputs": [
    {
     "name": "stdout",
     "output_type": "stream",
     "text": [
      "             Open   High    Low  Close     Volume  Ex-Dividend  Split Ratio  \\\n",
      "Date                                                                          \n",
      "1997-05-16  22.38  23.75  20.50  20.75  1225000.0          0.0          1.0   \n",
      "1997-05-19  20.50  21.25  19.50  20.50   508900.0          0.0          1.0   \n",
      "1997-05-20  20.75  21.00  19.63  19.63   455600.0          0.0          1.0   \n",
      "1997-05-21  19.25  19.75  16.50  17.13  1571100.0          0.0          1.0   \n",
      "1997-05-22  17.25  17.38  15.75  16.75   981400.0          0.0          1.0   \n",
      "\n",
      "            Adj. Open  Adj. High  Adj. Low  Adj. Close  Adj. Volume  \n",
      "Date                                                                 \n",
      "1997-05-16   1.865000   1.979167  1.708333    1.729167   14700000.0  \n",
      "1997-05-19   1.708333   1.770833  1.625000    1.708333    6106800.0  \n",
      "1997-05-20   1.729167   1.750000  1.635833    1.635833    5467200.0  \n",
      "1997-05-21   1.604167   1.645833  1.375000    1.427500   18853200.0  \n",
      "1997-05-22   1.437500   1.448333  1.312500    1.395833   11776800.0  \n"
     ]
    }
   ],
   "source": [
    "# Getting the dataset from quandl\n",
    "data = ql.get(\"WIKI/AMZN\")\n",
    "\n",
    "# Printing the dataset\n",
    "print(data.head())"
   ]
  },
  {
   "cell_type": "code",
   "execution_count": 5,
   "id": "a832e93d",
   "metadata": {},
   "outputs": [],
   "source": [
    "# Removing other columns in the dataframe\n",
    "data = data[['Adj. Close']]"
   ]
  },
  {
   "cell_type": "code",
   "execution_count": 6,
   "id": "f7060d15",
   "metadata": {},
   "outputs": [],
   "source": [
    "# To predict future prices of stock prices and to know how many days in the future\n",
    "forecast_num_days = 10\n",
    "\n",
    "# Target column is created by shifting 'forecast_num_days' units up\n",
    "# This is used to get the next day's value from the 'Adj. Close' columns\n",
    "data['Prediction'] = data[['Adj. Close']].shift(-forecast_num_days)\n"
   ]
  },
  {
   "cell_type": "code",
   "execution_count": 7,
   "id": "cc5a61b9",
   "metadata": {},
   "outputs": [
    {
     "name": "stdout",
     "output_type": "stream",
     "text": [
      "Input Dataset: [[   1.72916667]\n",
      " [   1.70833333]\n",
      " [   1.63583333]\n",
      " ...\n",
      " [1578.89      ]\n",
      " [1598.39      ]\n",
      " [1588.18      ]]\n"
     ]
    },
    {
     "name": "stderr",
     "output_type": "stream",
     "text": [
      "/var/folders/fn/yvlx351d13xb1k_rybw4y1m00000gn/T/ipykernel_7764/50493564.py:3: FutureWarning: In a future version of pandas all arguments of DataFrame.drop except for the argument 'labels' will be keyword-only.\n",
      "  X = np.array(data.drop(['Prediction'],1))\n"
     ]
    }
   ],
   "source": [
    "# Input Dataset X is created\n",
    "#1. Pandas Dataframe is converted to numpy - 'Adj. Close' column\n",
    "X = np.array(data.drop(['Prediction'],1))\n",
    "\n",
    "#2. The last 'forecast_num_days' number of rows are removed because of nan\n",
    "X = X[:-forecast_num_days]\n",
    "\n",
    "print(\"Input Dataset:\", X)"
   ]
  },
  {
   "cell_type": "code",
   "execution_count": 8,
   "id": "4362af00",
   "metadata": {},
   "outputs": [
    {
     "name": "stdout",
     "output_type": "stream",
     "text": [
      "Output Dataset: [1.51083333e+00 1.47916667e+00 1.41666667e+00 ... 1.49556000e+03\n",
      " 1.55586000e+03 1.49705000e+03]\n"
     ]
    }
   ],
   "source": [
    "# Output Dataset y is created\n",
    "#1. Pandas Dataframe is converted to numpy - 'Prediction' column\n",
    "temp = data['Prediction']\n",
    "y = np.array(temp)\n",
    "\n",
    "#2. The last 'forecast_num_days' number of rows are removed because of nan\n",
    "y = y[:-forecast_num_days]\n",
    "\n",
    "print(\"Output Dataset:\", y)"
   ]
  },
  {
   "cell_type": "code",
   "execution_count": 9,
   "id": "226100cf",
   "metadata": {},
   "outputs": [],
   "source": [
    "# Splitting the data into 80% training and 20% testing\n",
    "X_train, X_test, y_train, y_test = train_test_split(X,y,test_size=0.2)"
   ]
  },
  {
   "cell_type": "code",
   "execution_count": 10,
   "id": "1b68a72f",
   "metadata": {},
   "outputs": [
    {
     "name": "stdout",
     "output_type": "stream",
     "text": [
      "SVR score: 0.9424579201695173\n"
     ]
    }
   ],
   "source": [
    "# Create and Train Support Vector Regressor (SVR) model with RBF kernel\n",
    "svr_rbf = SVR(kernel = 'rbf', C = 1e3, gamma = 0.1)\n",
    "\n",
    "# Training the SVR model\n",
    "svr_rbf.fit(X_train, y_train)\n",
    "\n",
    "# Testing the SVR model\n",
    "# Score returns the coefficient of determination of R^2 of the prediction\n",
    "svr_confidence = svr_rbf.score(X_test, y_test)\n",
    "print(\"SVR score:\", svr_confidence)"
   ]
  },
  {
   "cell_type": "code",
   "execution_count": 11,
   "id": "89e32ec4",
   "metadata": {},
   "outputs": [
    {
     "name": "stdout",
     "output_type": "stream",
     "text": [
      "Linear Regression score: 0.9963015663540676\n"
     ]
    }
   ],
   "source": [
    "# Create and Train Linear Regression model with RBF kernel\n",
    "lr = LinearRegression()\n",
    "\n",
    "# Training the Linear Regression model\n",
    "lr.fit(X_train, y_train)\n",
    "\n",
    "# Testing the Linear Regression model\n",
    "# Score returns the coefficient of determination of R^2 of the prediction\n",
    "lr_confidence = lr.score(X_test, y_test)\n",
    "print(\"Linear Regression score:\", lr_confidence)"
   ]
  },
  {
   "cell_type": "code",
   "execution_count": 12,
   "id": "71fb10ee",
   "metadata": {},
   "outputs": [
    {
     "name": "stdout",
     "output_type": "stream",
     "text": [
      "[[1591.  ]\n",
      " [1582.32]\n",
      " [1571.68]\n",
      " [1544.93]\n",
      " [1586.51]\n",
      " [1581.86]\n",
      " [1544.1 ]\n",
      " [1495.56]\n",
      " [1555.86]\n",
      " [1497.05]]\n"
     ]
    },
    {
     "name": "stderr",
     "output_type": "stream",
     "text": [
      "/var/folders/fn/yvlx351d13xb1k_rybw4y1m00000gn/T/ipykernel_7764/1406797619.py:2: FutureWarning: In a future version of pandas all arguments of DataFrame.drop except for the argument 'labels' will be keyword-only.\n",
      "  x_forecast = np.array(data.drop(['Prediction'], 1))[-forecast_num_days:]\n"
     ]
    }
   ],
   "source": [
    "# Setting x_forecast to the last 30 rows of the original values from the 'Adj. Close' column\n",
    "x_forecast = np.array(data.drop(['Prediction'], 1))[-forecast_num_days:]\n",
    "print(x_forecast)"
   ]
  },
  {
   "cell_type": "code",
   "execution_count": 13,
   "id": "2ef7f613",
   "metadata": {},
   "outputs": [
    {
     "name": "stdout",
     "output_type": "stream",
     "text": [
      "Support Vector Regression Prediction: [1061.34653626  968.50581555  700.71302944 1581.0582435  1304.36700443\n",
      " 1041.77176807 1517.92215613 1263.72793138  865.85764375  938.63285461]\n",
      "\n",
      "Linear Regression Prediction: [1619.74620494 1610.9041642  1600.06553361 1572.81615689 1615.17238433\n",
      " 1610.43557678 1571.97066221 1522.52450348 1583.95020128 1524.04231923]\n"
     ]
    }
   ],
   "source": [
    "# Predicting the next 'n' days using Support Vector Regression (SVR)\n",
    "svr_pred = svr_rbf.predict(x_forecast)\n",
    "print(\"Support Vector Regression Prediction:\", svr_pred)\n",
    "\n",
    "print()\n",
    "\n",
    "# Predicting the next 'n' days using Linear Regression\n",
    "lr_pred = lr.predict(x_forecast)\n",
    "print(\"Linear Regression Prediction:\", lr_pred)"
   ]
  }
 ],
 "metadata": {
  "kernelspec": {
   "display_name": "Python 3 (ipykernel)",
   "language": "python",
   "name": "python3"
  },
  "language_info": {
   "codemirror_mode": {
    "name": "ipython",
    "version": 3
   },
   "file_extension": ".py",
   "mimetype": "text/x-python",
   "name": "python",
   "nbconvert_exporter": "python",
   "pygments_lexer": "ipython3",
   "version": "3.10.7"
  }
 },
 "nbformat": 4,
 "nbformat_minor": 5
}
